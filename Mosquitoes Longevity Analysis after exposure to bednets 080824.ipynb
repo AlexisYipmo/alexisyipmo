{
 "cells": [
  {
   "cell_type": "markdown",
   "id": "3d42d8a2-4528-421b-96ea-23cb9d843d6f",
   "metadata": {},
   "source": [
    "# Longevity analysis of mosquitoes exposed to bednets.\n",
    "\n",
    "### Mosquitoes have been exposed to 02 bednets (Bednet1 and Bednet2) for 05 min. After exposure, we count daily death in each group : Control (mosquitoes non exposed), BDN1 (Mosquitoes exposed to Bednet1), and BDN2 (Mosquitoes exposed to bednet2.). <b>We then want to know if there is a difference in term of survivability in each group</b> (Control, BDN1 and BDN2):\n"
   ]
  },
  {
   "cell_type": "markdown",
   "id": "b9aca541-c68d-4a10-a939-a14e53c85718",
   "metadata": {},
   "source": [
    "# 1- The Dataset"
   ]
  },
  {
   "cell_type": "code",
   "execution_count": 128,
   "id": "6bf94956-1e0d-4146-8a98-435a39176c70",
   "metadata": {},
   "outputs": [],
   "source": [
    "# Load the data\n",
    "data = read.csv('E:/DS Work Directory/Mosquitoes_data.csv', sep=';')"
   ]
  },
  {
   "cell_type": "markdown",
   "id": "4d8edcbb-8930-40ad-9d9c-8d05ff533d84",
   "metadata": {},
   "source": [
    "### Inspect"
   ]
  },
  {
   "cell_type": "code",
   "execution_count": 140,
   "id": "543405cb-82fc-4408-927c-eb45cf599bff",
   "metadata": {},
   "outputs": [
    {
     "data": {
      "text/html": [
       "<table>\n",
       "<thead><tr><th scope=col>Replicat</th><th scope=col>Days</th><th scope=col>Control</th><th scope=col>BDN1</th><th scope=col>BDN2</th></tr></thead>\n",
       "<tbody>\n",
       "\t<tr><td>R  </td><td>1  </td><td> 4 </td><td>200</td><td>193</td></tr>\n",
       "\t<tr><td>R  </td><td>2  </td><td>11 </td><td> 28</td><td> 14</td></tr>\n",
       "\t<tr><td>R  </td><td>3  </td><td> 4 </td><td> 35</td><td> 18</td></tr>\n",
       "\t<tr><td>R  </td><td>4  </td><td> 7 </td><td> 21</td><td>  4</td></tr>\n",
       "\t<tr><td>R  </td><td>5  </td><td>11 </td><td> 21</td><td> 18</td></tr>\n",
       "\t<tr><td>R  </td><td>6  </td><td> 7 </td><td> 14</td><td>  7</td></tr>\n",
       "</tbody>\n",
       "</table>\n"
      ],
      "text/latex": [
       "\\begin{tabular}{r|lllll}\n",
       " Replicat & Days & Control & BDN1 & BDN2\\\\\n",
       "\\hline\n",
       "\t R   & 1   &  4  & 200 & 193\\\\\n",
       "\t R   & 2   & 11  &  28 &  14\\\\\n",
       "\t R   & 3   &  4  &  35 &  18\\\\\n",
       "\t R   & 4   &  7  &  21 &   4\\\\\n",
       "\t R   & 5   & 11  &  21 &  18\\\\\n",
       "\t R   & 6   &  7  &  14 &   7\\\\\n",
       "\\end{tabular}\n"
      ],
      "text/markdown": [
       "\n",
       "| Replicat | Days | Control | BDN1 | BDN2 |\n",
       "|---|---|---|---|---|\n",
       "| R   | 1   |  4  | 200 | 193 |\n",
       "| R   | 2   | 11  |  28 |  14 |\n",
       "| R   | 3   |  4  |  35 |  18 |\n",
       "| R   | 4   |  7  |  21 |   4 |\n",
       "| R   | 5   | 11  |  21 |  18 |\n",
       "| R   | 6   |  7  |  14 |   7 |\n",
       "\n"
      ],
      "text/plain": [
       "  Replicat Days Control BDN1 BDN2\n",
       "1 R        1     4      200  193 \n",
       "2 R        2    11       28   14 \n",
       "3 R        3     4       35   18 \n",
       "4 R        4     7       21    4 \n",
       "5 R        5    11       21   18 \n",
       "6 R        6     7       14    7 "
      ]
     },
     "metadata": {},
     "output_type": "display_data"
    },
    {
     "name": "stdout",
     "output_type": "stream",
     "text": [
      "'data.frame':\t30 obs. of  5 variables:\n",
      " $ Replicat: Factor w/ 1 level \"R\": 1 1 1 1 1 1 1 1 1 1 ...\n",
      " $ Days    : int  1 2 3 4 5 6 7 8 9 10 ...\n",
      " $ Control : int  4 11 4 7 11 7 11 21 25 25 ...\n",
      " $ BDN1    : int  200 28 35 21 21 14 35 32 42 28 ...\n",
      " $ BDN2    : int  193 14 18 4 18 7 4 14 21 7 ...\n"
     ]
    },
    {
     "data": {
      "text/plain": [
       "\n",
       "\n",
       "|   |Replicat |     Days     |   Control     |     BDN1      |     BDN2      |\n",
       "|:--|:--------|:-------------|:--------------|:--------------|:--------------|\n",
       "|   |R:30     |Min.   : 1.00 |Min.   : 0.000 |Min.   :  0.00 |Min.   :  0.00 |\n",
       "|   |NA       |1st Qu.: 8.25 |1st Qu.: 4.000 |1st Qu.:  7.00 |1st Qu.:  7.00 |\n",
       "|   |NA       |Median :15.50 |Median : 7.000 |Median : 11.00 |Median : 12.50 |\n",
       "|   |NA       |Mean   :15.50 |Mean   : 8.533 |Mean   : 21.73 |Mean   : 19.23 |\n",
       "|   |NA       |3rd Qu.:22.75 |3rd Qu.:11.000 |3rd Qu.: 26.25 |3rd Qu.: 18.00 |\n",
       "|   |NA       |Max.   :30.00 |Max.   :25.000 |Max.   :200.00 |Max.   :193.00 |"
      ]
     },
     "metadata": {},
     "output_type": "display_data"
    },
    {
     "data": {
      "text/plain": [
       "  Replicat          Days          Control           BDN1        \n",
       " Mode :logical   Mode :logical   Mode :logical   Mode :logical  \n",
       " FALSE:30        FALSE:30        FALSE:30        FALSE:30       \n",
       "    BDN2        \n",
       " Mode :logical  \n",
       " FALSE:30       "
      ]
     },
     "metadata": {},
     "output_type": "display_data"
    }
   ],
   "source": [
    "# Inspect the data\n",
    "head(data)\n",
    "str(data)\n",
    "library(knitr)\n",
    "kable(summary(data))\n",
    "summary(is.na(data))"
   ]
  },
  {
   "cell_type": "markdown",
   "id": "24bbe128-0c17-4995-aea3-1d8a0f611674",
   "metadata": {},
   "source": [
    "The Data doesn't contain missing value.\n",
    "Let's proceed to some bivariate analysis"
   ]
  },
  {
   "cell_type": "code",
   "execution_count": 158,
   "id": "337b99d0-78b8-4393-9cb2-370ba99f61d0",
   "metadata": {},
   "outputs": [
    {
     "data": {
      "text/html": [
       "<dl class=dl-horizontal>\n",
       "\t<dt>Control</dt>\n",
       "\t\t<dd>256</dd>\n",
       "\t<dt>BDN1</dt>\n",
       "\t\t<dd>652</dd>\n",
       "\t<dt>BDN2</dt>\n",
       "\t\t<dd>577</dd>\n",
       "</dl>\n"
      ],
      "text/latex": [
       "\\begin{description*}\n",
       "\\item[Control] 256\n",
       "\\item[BDN1] 652\n",
       "\\item[BDN2] 577\n",
       "\\end{description*}\n"
      ],
      "text/markdown": [
       "Control\n",
       ":   256BDN1\n",
       ":   652BDN2\n",
       ":   577\n",
       "\n"
      ],
      "text/plain": [
       "Control    BDN1    BDN2 \n",
       "    256     652     577 "
      ]
     },
     "metadata": {},
     "output_type": "display_data"
    }
   ],
   "source": [
    "colSums(data[,3:5])"
   ]
  },
  {
   "cell_type": "markdown",
   "id": "3f658595-bc97-482f-8ca9-6f96b74b3120",
   "metadata": {},
   "source": [
    "We have 256 mosquitoes in Control group, 652 in BDN1 group and 577 in BDN2 group"
   ]
  },
  {
   "cell_type": "code",
   "execution_count": 3,
   "id": "0c127e2e-cd18-456d-a9f9-6d2e1c749299",
   "metadata": {},
   "outputs": [
    {
     "name": "stderr",
     "output_type": "stream",
     "text": [
      "Loading required package: lattice\n",
      "\n",
      "Loading required package: survival\n",
      "\n",
      "Loading required package: Formula\n",
      "\n",
      "Loading required package: ggplot2\n",
      "\n",
      "Registered S3 methods overwritten by 'ggplot2':\n",
      "  method         from \n",
      "  [.quosures     rlang\n",
      "  c.quosures     rlang\n",
      "  print.quosures rlang\n",
      "\n",
      "\n",
      "Attaching package: 'Hmisc'\n",
      "\n",
      "\n",
      "The following objects are masked from 'package:base':\n",
      "\n",
      "    format.pval, units\n",
      "\n",
      "\n"
     ]
    }
   ],
   "source": [
    "library(Hmisc)"
   ]
  },
  {
   "cell_type": "markdown",
   "id": "d610ff7c-4ca1-4cda-bd40-d5cc39016d12",
   "metadata": {},
   "source": [
    "### Bivariate analysis"
   ]
  },
  {
   "cell_type": "code",
   "execution_count": 4,
   "id": "8c5e4d34-07f7-4d5a-b9bc-a89a96e3c263",
   "metadata": {},
   "outputs": [
    {
     "data": {
      "text/plain": [
       "         Days Control  BDN1  BDN2\n",
       "Days     1.00   -0.39 -0.52 -0.36\n",
       "Control -0.39    1.00  0.11 -0.06\n",
       "BDN1    -0.52    0.11  1.00  0.93\n",
       "BDN2    -0.36   -0.06  0.93  1.00\n",
       "\n",
       "n= 30 \n",
       "\n",
       "\n",
       "P\n",
       "        Days   Control BDN1   BDN2  \n",
       "Days           0.0336  0.0033 0.0513\n",
       "Control 0.0336         0.5696 0.7647\n",
       "BDN1    0.0033 0.5696         0.0000\n",
       "BDN2    0.0513 0.7647  0.0000       "
      ]
     },
     "metadata": {},
     "output_type": "display_data"
    }
   ],
   "source": [
    "cor = rcorr(as.matrix(data[,2:5]), type=c(\"pearson\"))\n",
    "cor"
   ]
  },
  {
   "cell_type": "markdown",
   "id": "85f6df29-71d5-427d-8962-4a64ce21f4b3",
   "metadata": {},
   "source": [
    "We notice a significant correlation between BDN1 and BDN2 (cor = 0.93)\n"
   ]
  },
  {
   "cell_type": "code",
   "execution_count": 59,
   "id": "a4912592-226b-45ab-b0f9-8a2deb23fcaa",
   "metadata": {},
   "outputs": [
    {
     "data": {
      "image/png": "[encoded data removed]",
      "text/plain": [
       "Plot with title \"Group BDN2\""
      ]
     },
     "metadata": {
      "image/png": {
       "height": 420,
       "width": 420
      }
     },
     "output_type": "display_data"
    }
   ],
   "source": [
    "# Scatter plot\n",
    "\n",
    "#png(file = \"Scatter plot Mosquitoes data\")\n",
    "par(mfrow=c(1,3))\n",
    "plot(data$Days, data$Control, type='p', main = 'Group Control',col=\"blue\", lty = 2:1,\n",
    "     ylab = \"Count\", xlab = \"Survival days\", xlim = c(0, 30))\n",
    "plot(data$Days, data$BDN1, type='p', main='Group BDN1',col=\"red\", lty = 2:1,\n",
    "    ylab = \"Count\", xlab = \"Survival days\", xlim = c(0, 30))\n",
    "plot(data$Days, data$BDN2, type='p', main='Group BDN2',col=\"black\", lty = 2:1,\n",
    "     ylab = \"Count\", xlab = \"Survival days\", xlim = c(0, 30))\n",
    "#dev.off()"
   ]
  },
  {
   "cell_type": "markdown",
   "id": "308b9098-c72d-4d1a-8f05-e6ca03f0e2d9",
   "metadata": {},
   "source": [
    "BDN1 and BDN2 have a high number of death the first day (around 200), and this number decrease suddently at day 2.\n",
    "Control seems to have a constant number of death, with some few values > 20"
   ]
  },
  {
   "cell_type": "markdown",
   "id": "27b9fdb8-e414-4858-bf04-d53b33691d25",
   "metadata": {},
   "source": [
    "### Data transformation, for survival analysis needs"
   ]
  },
  {
   "cell_type": "code",
   "execution_count": 81,
   "id": "7cc7de08-51fc-4e4d-8f39-bd7cd59e1d63",
   "metadata": {},
   "outputs": [
    {
     "data": {
      "text/html": [
       "<table>\n",
       "<thead><tr><th scope=col>days</th><th scope=col>status</th><th scope=col>occur</th><th scope=col>group</th></tr></thead>\n",
       "<tbody>\n",
       "\t<tr><td>1      </td><td>1      </td><td> 4     </td><td>Control</td></tr>\n",
       "\t<tr><td>2      </td><td>1      </td><td>11     </td><td>Control</td></tr>\n",
       "\t<tr><td>3      </td><td>1      </td><td> 4     </td><td>Control</td></tr>\n",
       "\t<tr><td>4      </td><td>1      </td><td> 7     </td><td>Control</td></tr>\n",
       "\t<tr><td>5      </td><td>1      </td><td>11     </td><td>Control</td></tr>\n",
       "\t<tr><td>6      </td><td>1      </td><td> 7     </td><td>Control</td></tr>\n",
       "</tbody>\n",
       "</table>\n"
      ],
      "text/latex": [
       "\\begin{tabular}{r|llll}\n",
       " days & status & occur & group\\\\\n",
       "\\hline\n",
       "\t 1       & 1       &  4      & Control\\\\\n",
       "\t 2       & 1       & 11      & Control\\\\\n",
       "\t 3       & 1       &  4      & Control\\\\\n",
       "\t 4       & 1       &  7      & Control\\\\\n",
       "\t 5       & 1       & 11      & Control\\\\\n",
       "\t 6       & 1       &  7      & Control\\\\\n",
       "\\end{tabular}\n"
      ],
      "text/markdown": [
       "\n",
       "| days | status | occur | group |\n",
       "|---|---|---|---|\n",
       "| 1       | 1       |  4      | Control |\n",
       "| 2       | 1       | 11      | Control |\n",
       "| 3       | 1       |  4      | Control |\n",
       "| 4       | 1       |  7      | Control |\n",
       "| 5       | 1       | 11      | Control |\n",
       "| 6       | 1       |  7      | Control |\n",
       "\n"
      ],
      "text/plain": [
       "  days status occur group  \n",
       "1 1    1       4    Control\n",
       "2 2    1      11    Control\n",
       "3 3    1       4    Control\n",
       "4 4    1       7    Control\n",
       "5 5    1      11    Control\n",
       "6 6    1       7    Control"
      ]
     },
     "metadata": {},
     "output_type": "display_data"
    },
    {
     "name": "stdout",
     "output_type": "stream",
     "text": [
      "'data.frame':\t90 obs. of  4 variables:\n",
      " $ days  : int  1 2 3 4 5 6 7 8 9 10 ...\n",
      " $ status: num  1 1 1 1 1 1 1 1 1 1 ...\n",
      " $ occur : int  4 11 4 7 11 7 11 21 25 25 ...\n",
      " $ group : Factor w/ 3 levels \"BDN1\",\"BDN2\",..: 3 3 3 3 3 3 3 3 3 3 ...\n"
     ]
    },
    {
     "data": {
      "text/plain": [
       "\n",
       "\n",
       "|   |     days    |    status |    occur     |    group  |\n",
       "|:--|:------------|:----------|:-------------|:----------|\n",
       "|   |Min.   : 1.0 |Min.   :1  |Min.   :  0.0 |BDN1   :30 |\n",
       "|   |1st Qu.: 8.0 |1st Qu.:1  |1st Qu.:  7.0 |BDN2   :30 |\n",
       "|   |Median :15.5 |Median :1  |Median : 11.0 |Control:30 |\n",
       "|   |Mean   :15.5 |Mean   :1  |Mean   : 16.5 |NA         |\n",
       "|   |3rd Qu.:23.0 |3rd Qu.:1  |3rd Qu.: 18.0 |NA         |\n",
       "|   |Max.   :30.0 |Max.   :1  |Max.   :200.0 |NA         |"
      ]
     },
     "metadata": {},
     "output_type": "display_data"
    },
    {
     "data": {
      "text/plain": [
       "    days           status          occur           group        \n",
       " Mode :logical   Mode :logical   Mode :logical   Mode :logical  \n",
       " FALSE:90        FALSE:90        FALSE:90        FALSE:90       "
      ]
     },
     "metadata": {},
     "output_type": "display_data"
    }
   ],
   "source": [
    "# We remove the unusual variable (Replicat)\n",
    "n.data = data[,2:5]\n",
    "\n",
    "# number of days of the experiment\n",
    "ntime=length(n.data$Days) \n",
    "\n",
    "# We create the new data frame with new variables : 'Status' to get the status of mosquitoes at day t (1 for decease),\n",
    "# 'group' to identify to wich group the mosquitoe belong, 'occur' to count the weight of a status at day t in a group)\n",
    "n.data=data.frame(days = rep(c(1:ntime),3),\n",
    "                  status = rep(rep(1,ntime),3),\n",
    "                  occur = c(n.data$Control, n.data$BDN1, n.data$BDN2),\n",
    "                  group =c(rep('Control',ntime), rep('BDN1',ntime), rep('BDN2',ntime))\n",
    "                 )\n",
    "head(n.data)\n",
    "str(n.data)\n",
    "kable(summary(n.data))\n",
    "summary(is.na(n.data))"
   ]
  },
  {
   "cell_type": "markdown",
   "id": "ed6800ca-fcb6-4941-ae54-6db4422610d3",
   "metadata": {},
   "source": [
    "## 2- The Analysis"
   ]
  },
  {
   "cell_type": "markdown",
   "id": "97ee95b1-dbe0-4bcd-9b19-7a87bb9cd373",
   "metadata": {},
   "source": [
    "### Kaplan Meier estimation of the survival curve\n"
   ]
  },
  {
   "cell_type": "code",
   "execution_count": 79,
   "id": "9fb2831c-9613-4352-a487-84428a9f3306",
   "metadata": {},
   "outputs": [],
   "source": [
    "# The librairies\n",
    "library(survival)"
   ]
  },
  {
   "cell_type": "code",
   "execution_count": 46,
   "id": "572ae3ef-69ea-4f33-921f-e58176273f6f",
   "metadata": {},
   "outputs": [],
   "source": [
    "# We create subsets for each group\n",
    "BDN1 <- subset(n.data, group == \"BDN1\")\n",
    "BDN2 <- subset(n.data, group == \"BDN2\")\n",
    "Control <- subset(n.data, group == \"Control\")"
   ]
  },
  {
   "cell_type": "code",
   "execution_count": 68,
   "id": "b07efbd7-2c7f-449b-9bfa-a64eb394cc79",
   "metadata": {
    "editable": true,
    "slideshow": {
     "slide_type": ""
    },
    "tags": []
   },
   "outputs": [
    {
     "name": "stdout",
     "output_type": "stream",
     "text": [
      "  xchar= 0.8359 ; (yextra, ychar)= 0, 0.04475 \n",
      "  rect2(22.15,1.04, w=6.969, h=0.179, ...)\n",
      "  segments2( 22.4 22.4 22.4 , 0.9952 0.9505 0.9057 , dx= 1.672 , dy=0, ...) \n",
      "  points2( 23.24 23.24 23.24 , 0.9952 0.9505 0.9057 , pch= 1 1 1 , ...) \n"
     ]
    },
    {
     "data": {
      "image/png": "[encoded data removed]",
      "text/plain": [
       "Plot with title \"Survival curve Mosquitoes data\""
      ]
     },
     "metadata": {
      "image/png": {
       "height": 420,
       "width": 420
      }
     },
     "output_type": "display_data"
    }
   ],
   "source": [
    "# We visualize the survival days of each group on the same graph\n",
    "#png(file = \"Survival curve Mosquitoes data.png\")\n",
    "plot(survfit(Surv(days, status) ~ group, data = BDN1, weight=occur), col=\"red\", conf.int=F, main = \"Survival curve Mosquitoes data\", lty = 1:1,\n",
    "     ylab = \"Probability\", xlab = \"Survival days\", xlim = c(0, 28))\n",
    "par(new=T)\n",
    "plot(survfit(Surv(days, status) ~ group, data = BDN2, weight=occur), col=\"blue\", conf.int=F, lty = 2:1,\n",
    "     ylab = \"Probability\", xlab = \"Survival days\", xlim = c(0, 28))\n",
    "par(new=T)\n",
    "plot(survfit(Surv(days, status) ~ group, data = Control, weight=occur), col=\"green\", conf.int=F, lty = 2:1,\n",
    "     ylab = \"Probability\", xlab = \"Survival days\", xlim = c(0, 28))\n",
    "legend(\"topright\", c(\"Bednet 1\", \"Bednet 2\", \"Control\"), col = c('red', 'blue', 'green'),\n",
    "       text.col = \"black\", lty = c(1, 1, 1), pch = c(1, 1, 1),\n",
    "       merge = TRUE, bg = \"gray90\", trace=TRUE)\n",
    "#dev.off()"
   ]
  },
  {
   "cell_type": "markdown",
   "id": "aeb8d292-6c0b-41ee-9485-8cafe481303d",
   "metadata": {},
   "source": [
    "After day 1, a mosquitoe has a survivability probability of 0.69 for BDN1 group, and 0.66 for BDN2 group. Moreover, a mosquitoe of Control group has a survivability probability of 0.98\n",
    "Looking the Kaplan-Meyer Estimation of survival curve, we can say that after day 1 of exposition, exposed mosquitoes live less longer than non exposed mosquitoe. This can be confirmed looking the summary of Kaplan-Meyer estimates"
   ]
  },
  {
   "cell_type": "code",
   "execution_count": 69,
   "id": "75cbbdc5-029f-43e0-951e-b88f0a8104f7",
   "metadata": {},
   "outputs": [
    {
     "data": {
      "text/plain": [
       "Call: survfit(formula = Surv(days, status) ~ group, data = n.data, \n",
       "    weights = occur)\n",
       "\n",
       "                group=BDN1 \n",
       " time n.risk n.event survival std.err lower 95% CI upper 95% CI\n",
       "    1    652     200  0.69325 0.01806      0.65874       0.7296\n",
       "    2    452      28  0.65031 0.01868      0.61471       0.6880\n",
       "    3    424      35  0.59663 0.01921      0.56013       0.6355\n",
       "    4    389      21  0.56442 0.01942      0.52761       0.6038\n",
       "    5    368      21  0.53221 0.01954      0.49525       0.5719\n",
       "    6    347      14  0.51074 0.01958      0.47377       0.5506\n",
       "    7    333      35  0.45706 0.01951      0.42037       0.4969\n",
       "    8    298      32  0.40798 0.01925      0.37194       0.4475\n",
       "    9    266      42  0.34356 0.01860      0.30897       0.3820\n",
       "   10    224      28  0.30061 0.01796      0.26740       0.3380\n",
       "   11    196      28  0.25767 0.01713      0.22619       0.2935\n",
       "   12    168      21  0.22546 0.01637      0.19556       0.2599\n",
       "   13    147       7  0.21472 0.01608      0.18541       0.2487\n",
       "   14    140       7  0.20399 0.01578      0.17529       0.2374\n",
       "   15    133       7  0.19325 0.01546      0.16520       0.2261\n",
       "   16    126       7  0.18252 0.01513      0.15515       0.2147\n",
       "   17    119       7  0.17178 0.01477      0.14514       0.2033\n",
       "   18    112      11  0.15491 0.01417      0.12948       0.1853\n",
       "   19    101      11  0.13804 0.01351      0.11394       0.1672\n",
       "   20     90       7  0.12730 0.01305      0.10412       0.1556\n",
       "   21     83      18  0.09969 0.01173      0.07916       0.1256\n",
       "   22     65       7  0.08896 0.01115      0.06958       0.1137\n",
       "   23     58      11  0.07209 0.01013      0.05473       0.0949\n",
       "   24     47      14  0.05061 0.00858      0.03630       0.0706\n",
       "   25     33      11  0.03374 0.00707      0.02238       0.0509\n",
       "   26     22      11  0.01687 0.00504      0.00939       0.0303\n",
       "   27     11       7  0.00613 0.00306      0.00231       0.0163\n",
       "   28      4       4  0.00000     NaN           NA           NA\n",
       "\n",
       "                group=BDN2 \n",
       " time n.risk n.event survival std.err lower 95% CI upper 95% CI\n",
       "    1    577     193   0.6655 0.01964       0.6281       0.7051\n",
       "    2    384      14   0.6412 0.01997       0.6033       0.6816\n",
       "    3    370      18   0.6101 0.02030       0.5715       0.6512\n",
       "    4    352       4   0.6031 0.02037       0.5645       0.6444\n",
       "    5    348      18   0.5719 0.02060       0.5329       0.6138\n",
       "    6    330       7   0.5598 0.02067       0.5207       0.6018\n",
       "    7    323       4   0.5529 0.02070       0.5137       0.5950\n",
       "    8    319      14   0.5286 0.02078       0.4894       0.5709\n",
       "    9    305      21   0.4922 0.02081       0.4531       0.5347\n",
       "   10    284       7   0.4801 0.02080       0.4410       0.5226\n",
       "   11    277      28   0.4315 0.02062       0.3930       0.4739\n",
       "   12    249      14   0.4073 0.02045       0.3691       0.4494\n",
       "   13    235      11   0.3882 0.02029       0.3504       0.4301\n",
       "   14    224      21   0.3518 0.01988       0.3149       0.3930\n",
       "   15    203      28   0.3033 0.01914       0.2680       0.3432\n",
       "   16    175      18   0.2721 0.01853       0.2381       0.3109\n",
       "   17    157      11   0.2530 0.01810       0.2199       0.2911\n",
       "   18    146      35   0.1924 0.01641       0.1628       0.2274\n",
       "   19    111      11   0.1733 0.01576       0.1450       0.2071\n",
       "   20    100      14   0.1490 0.01483       0.1226       0.1811\n",
       "   21     86       7   0.1369 0.01431       0.1116       0.1680\n",
       "   22     79       4   0.1300 0.01400       0.1052       0.1605\n",
       "   23     75      28   0.0815 0.01139       0.0619       0.1071\n",
       "   24     47      11   0.0624 0.01007       0.0455       0.0856\n",
       "   25     36      11   0.0433 0.00848       0.0295       0.0636\n",
       "   26     25      14   0.0191 0.00569       0.0106       0.0342\n",
       "   27     11      11   0.0000     NaN           NA           NA\n",
       "\n",
       "                group=Control \n",
       " time n.risk n.event survival std.err lower 95% CI upper 95% CI\n",
       "    1    256       4   0.9844 0.00775      0.96930       0.9997\n",
       "    2    252      11   0.9414 0.01468      0.91307       0.9706\n",
       "    3    241       4   0.9258 0.01638      0.89422       0.9585\n",
       "    4    237       7   0.8984 0.01888      0.86219       0.9362\n",
       "    5    230      11   0.8555 0.02198      0.81346       0.8996\n",
       "    6    219       7   0.8281 0.02358      0.78318       0.8757\n",
       "    7    212      11   0.7852 0.02567      0.73642       0.8371\n",
       "    8    201      21   0.7031 0.02856      0.64933       0.7614\n",
       "    9    180      25   0.6055 0.03055      0.54846       0.6684\n",
       "   10    155      25   0.5078 0.03125      0.45012       0.5729\n",
       "   11    130      21   0.4258 0.03090      0.36932       0.4909\n",
       "   12    109      11   0.3828 0.03038      0.32767       0.4472\n",
       "   14     98       7   0.3555 0.02992      0.30142       0.4192\n",
       "   15     91       4   0.3398 0.02960      0.28650       0.4031\n",
       "   16     87       7   0.3125 0.02897      0.26058       0.3748\n",
       "   17     80       7   0.2852 0.02822      0.23488       0.3462\n",
       "   18     73       7   0.2578 0.02734      0.20943       0.3174\n",
       "   19     66       7   0.2305 0.02632      0.18425       0.2883\n",
       "   20     59       7   0.2031 0.02515      0.15936       0.2589\n",
       "   21     52      11   0.1602 0.02292      0.12098       0.2120\n",
       "   22     41       4   0.1445 0.02198      0.10728       0.1947\n",
       "   23     37       7   0.1172 0.02010      0.08373       0.1640\n",
       "   25     30      11   0.0742 0.01638      0.04815       0.1144\n",
       "   26     19      11   0.0312 0.01087      0.01580       0.0618\n",
       "   27      8       4   0.0156 0.00775      0.00591       0.0413\n",
       "   28      4       4   0.0000     NaN           NA           NA\n"
      ]
     },
     "metadata": {},
     "output_type": "display_data"
    }
   ],
   "source": [
    "# Create the surfit object\n",
    "Estim =survfit(Surv(days, status) ~ group, data = n.data, weight=occur)\n",
    "summary(Estim)"
   ]
  },
  {
   "cell_type": "markdown",
   "id": "951ed00e-8193-4bc3-9d31-0bfc53009e56",
   "metadata": {},
   "source": [
    "### Mean/median death day in each group?"
   ]
  },
  {
   "cell_type": "code",
   "execution_count": 74,
   "id": "ecba9655-c559-4fb8-b20b-d5ee84fd10fd",
   "metadata": {},
   "outputs": [
    {
     "name": "stdout",
     "output_type": "stream",
     "text": [
      "Call: survfit(formula = Surv(days, status) ~ group, data = n.data, \n",
      "    weights = occur)\n",
      "\n",
      "              records   n events *rmean *se(rmean) median 0.95LCL 0.95UCL\n",
      "group=BDN1         30 652    652   8.29      0.305      7       5       7\n",
      "group=BDN2         30 577    577  10.10      0.358      9       8      11\n",
      "group=Control      30 256    256  12.87      0.452     11      10      11\n",
      "    * restricted mean with upper limit =  30 \n"
     ]
    }
   ],
   "source": [
    "# Because we were able to follow all the mosquitoes during 30 days (No censored data), we can estimate a mean death day on this period \n",
    "print(Estim, print.rmean=TRUE) "
   ]
  },
  {
   "cell_type": "raw",
   "id": "a9e28ad4-ba0c-43a2-acb7-f0146d2774f5",
   "metadata": {},
   "source": [
    " Control group has the highest value for median/mean days\n",
    "According to this, Mosquitoes lives on average 12.8 days for Control group ; 10.1 days for BDN2 group ; and 8.2 days for BDN1 group. We then suspect that non exposed mosquitoes live more longer than exposed mosquitoes.\n",
    "Let us confirm this using a test\n"
   ]
  },
  {
   "cell_type": "markdown",
   "id": "802fdd9b-02f0-4c5d-80cc-4df6d4650ad3",
   "metadata": {},
   "source": [
    "### Is the difference of mean/median death day in groups statiscally significant ?"
   ]
  },
  {
   "cell_type": "raw",
   "id": "380dc14e-be06-41bf-b6e0-9e076eb3d0ba",
   "metadata": {},
   "source": [
    "Because the curves of Kaplan-Meier touch each other, we conclude that the risks are not proportional. Then, we should not use the Logrank test.\n",
    "In this case, the test of Tarone-Ware is peto-peto are recommanded.\n",
    "\n",
    "Hypothesis of the test\n",
    " H0 There is no difference between groups In terms of survivability\n",
    " H1 There is a difference between groups\n",
    " p-value = P_HO(H0 is true) We can reject the null hypothesis if the p-value of the test is less than 0.05 (95% confidence level)."
   ]
  },
  {
   "cell_type": "code",
   "execution_count": 123,
   "id": "1cfec5ab-30e5-44da-a42d-93a3b798ab58",
   "metadata": {},
   "outputs": [
    {
     "data": {
      "text/html": [
       "<table>\n",
       "<thead><tr><th scope=col>days</th><th scope=col>status</th><th scope=col>occur</th><th scope=col>group</th></tr></thead>\n",
       "<tbody>\n",
       "\t<tr><td>1      </td><td>1      </td><td> 4     </td><td>Control</td></tr>\n",
       "\t<tr><td>2      </td><td>1      </td><td>11     </td><td>Control</td></tr>\n",
       "\t<tr><td>3      </td><td>1      </td><td> 4     </td><td>Control</td></tr>\n",
       "</tbody>\n",
       "</table>\n"
      ],
      "text/latex": [
       "\\begin{tabular}{r|llll}\n",
       " days & status & occur & group\\\\\n",
       "\\hline\n",
       "\t 1       & 1       &  4      & Control\\\\\n",
       "\t 2       & 1       & 11      & Control\\\\\n",
       "\t 3       & 1       &  4      & Control\\\\\n",
       "\\end{tabular}\n"
      ],
      "text/markdown": [
       "\n",
       "| days | status | occur | group |\n",
       "|---|---|---|---|\n",
       "| 1       | 1       |  4      | Control |\n",
       "| 2       | 1       | 11      | Control |\n",
       "| 3       | 1       |  4      | Control |\n",
       "\n"
      ],
      "text/plain": [
       "  days status occur group  \n",
       "1 1    1       4    Control\n",
       "2 2    1      11    Control\n",
       "3 3    1       4    Control"
      ]
     },
     "metadata": {},
     "output_type": "display_data"
    }
   ],
   "source": [
    "head(n.data,3)"
   ]
  },
  {
   "cell_type": "markdown",
   "id": "1de511cd-a50b-4a55-af2e-3386248d2f26",
   "metadata": {},
   "source": [
    "We need to transform the dataset using values of the variable 'occur' for each day, and then remove it ('Occur'). It is a kind of de-summarize of the variable 'occur'. This is necessary to compute the test, otherwise we canot get true value of observed and expected events"
   ]
  },
  {
   "cell_type": "code",
   "execution_count": 161,
   "id": "28164cd0-7e64-422f-acdc-2db169a931be",
   "metadata": {},
   "outputs": [],
   "source": [
    "# We write a Function to remove the 'occur' variable without loosing informations from the initial data set\n",
    "\n",
    "rem_func = function(tab)\n",
    "{\n",
    "total=sum(sum(tab[,3])+sum(tab[,4])+sum(tab[,5]))\n",
    "TimeData=matrix(data = NA, nrow = total+1, ncol = 3, byrow = TRUE,\n",
    "       dimnames = NULL)\n",
    "colnames(TimeData)= c('group','days','status')\n",
    "Index=0\n",
    "  for(i in tab[,2]) # We within days column\n",
    "  {\n",
    "\tj=tab[i,3] # value of 'occur' at day i for Control group\n",
    "    if(j!=0){\n",
    "\tTimeData[(Index+1):(Index+j),1] = 'Control' # We write the name of the group j times\n",
    "\tTimeData[(Index+1):(Index+j),2] = as.integer(i) # We re-write the day i j times, where j is the value of occur at day i for Control group\n",
    "\tTimeData[(Index+1):(Index+j),3] = as.integer(1) # We write the value 1, j times\n",
    "      Index=Index+j}                                # We update the index\n",
    "\telse{Index=Index+j}\n",
    "\n",
    "      k=tab[i,4]\n",
    "     \tif(k!=0){\n",
    "\tTimeData[(Index+1):(Index+k),1] = 'BDN1'\n",
    "\tTimeData[(Index+1):(Index+k),2] = as.integer(i)\n",
    "\tTimeData[(Index+1):(Index+k),3] = as.integer(1)\n",
    "      Index=Index+k}\n",
    "\telse{Index=Index+k}\n",
    "\n",
    "     \tm=tab[i,5]\n",
    "     \tif(m!=0){\n",
    "\tTimeData[(Index+1):(Index+m),1] = 'BDN2'\n",
    "\tTimeData[(Index+1):(Index+m),2] = as.integer(i)\n",
    "\tTimeData[(Index+1):(Index+m),3] = as.integer(1)\t\n",
    "      Index=Index+m}\n",
    "\telse{Index=Index+m}\n",
    "   }\n",
    "  return (as.data.frame(TimeData))\n",
    "}\n"
   ]
  },
  {
   "cell_type": "code",
   "execution_count": 162,
   "id": "f7e87767-6012-4f3a-a79d-960bb3688283",
   "metadata": {},
   "outputs": [
    {
     "data": {
      "text/html": [
       "<table>\n",
       "<thead><tr><th scope=col>group</th><th scope=col>days</th><th scope=col>status</th></tr></thead>\n",
       "<tbody>\n",
       "\t<tr><td>Control</td><td>1      </td><td>1      </td></tr>\n",
       "\t<tr><td>Control</td><td>1      </td><td>1      </td></tr>\n",
       "\t<tr><td>Control</td><td>1      </td><td>1      </td></tr>\n",
       "\t<tr><td>Control</td><td>1      </td><td>1      </td></tr>\n",
       "\t<tr><td>BDN1   </td><td>1      </td><td>1      </td></tr>\n",
       "\t<tr><td>BDN1   </td><td>1      </td><td>1      </td></tr>\n",
       "</tbody>\n",
       "</table>\n"
      ],
      "text/latex": [
       "\\begin{tabular}{r|lll}\n",
       " group & days & status\\\\\n",
       "\\hline\n",
       "\t Control & 1       & 1      \\\\\n",
       "\t Control & 1       & 1      \\\\\n",
       "\t Control & 1       & 1      \\\\\n",
       "\t Control & 1       & 1      \\\\\n",
       "\t BDN1    & 1       & 1      \\\\\n",
       "\t BDN1    & 1       & 1      \\\\\n",
       "\\end{tabular}\n"
      ],
      "text/markdown": [
       "\n",
       "| group | days | status |\n",
       "|---|---|---|\n",
       "| Control | 1       | 1       |\n",
       "| Control | 1       | 1       |\n",
       "| Control | 1       | 1       |\n",
       "| Control | 1       | 1       |\n",
       "| BDN1    | 1       | 1       |\n",
       "| BDN1    | 1       | 1       |\n",
       "\n"
      ],
      "text/plain": [
       "  group   days status\n",
       "1 Control 1    1     \n",
       "2 Control 1    1     \n",
       "3 Control 1    1     \n",
       "4 Control 1    1     \n",
       "5 BDN1    1    1     \n",
       "6 BDN1    1    1     "
      ]
     },
     "metadata": {},
     "output_type": "display_data"
    },
    {
     "data": {
      "text/plain": [
       "     group          days      status    \n",
       " BDN1   :652   1      :397   1   :1485  \n",
       " BDN2   :577   9      : 88   NA's:   1  \n",
       " Control:256   11     : 77              \n",
       " NA's   :  1   8      : 67              \n",
       "               10     : 60              \n",
       "               (Other):796              \n",
       "               NA's   :  1              "
      ]
     },
     "metadata": {},
     "output_type": "display_data"
    }
   ],
   "source": [
    "test_data = rem_func(data)\n",
    "head(test_data)\n",
    "summary(test_data)"
   ]
  },
  {
   "cell_type": "code",
   "execution_count": 163,
   "id": "02da5bc3-f6df-451b-9e7e-8d3851ccc16e",
   "metadata": {},
   "outputs": [
    {
     "data": {
      "text/plain": [
       "Call:\n",
       "survdiff(formula = Surv(as.integer(days), as.integer(status)) ~ \n",
       "    group, data = test_data, rho = 0.5)\n",
       "\n",
       "n=1485, 1 observation deleted due to missingness.\n",
       "\n",
       "                N Observed Expected (O-E)^2/E (O-E)^2/V\n",
       "group=BDN1    652      453      470      0.64      1.82\n",
       "group=BDN2    577      434      349     20.98     48.42\n",
       "group=Control 256      152      220     21.13     42.64\n",
       "\n",
       " Chisq= 66.6  on 2 degrees of freedom, p= 3e-15 "
      ]
     },
     "metadata": {},
     "output_type": "display_data"
    }
   ],
   "source": [
    "# Perform the Tarone-Ware test\n",
    "survdiff(Surv(as.integer(days), as.integer(status)) ~ group, data=test_data, rho=0.5)\n"
   ]
  },
  {
   "cell_type": "raw",
   "id": "07b6843c-6662-462e-93a6-cb8bf279da8c",
   "metadata": {},
   "source": [
    "Here the p.value of the test is less than 0.05. Then, we can reject the null hypothesis and say that there is enough evidence to claim there is a difference in survival between the groups."
   ]
  },
  {
   "cell_type": "markdown",
   "id": "a421e0b0-e115-41dd-9706-4223047a61ba",
   "metadata": {},
   "source": [
    "### Compare the 02 groups of bednets"
   ]
  },
  {
   "cell_type": "code",
   "execution_count": null,
   "id": "0321984d-7c5b-4baa-8d26-c98bfa6439e6",
   "metadata": {},
   "outputs": [],
   "source": [
    "bdn1_bdn2 = subset(test_data, group!= 'Control')"
   ]
  },
  {
   "cell_type": "code",
   "execution_count": 171,
   "id": "3f776b55-2d87-49b5-b9cb-00b9374a309b",
   "metadata": {},
   "outputs": [
    {
     "data": {
      "text/plain": [
       "Call:\n",
       "survdiff(formula = Surv(as.integer(days), as.integer(status)) ~ \n",
       "    group, data = bdn1_bdn2, rho = 0.5)\n",
       "\n",
       "             N Observed Expected (O-E)^2/E (O-E)^2/V\n",
       "group=BDN1 652      443      496      5.74      21.6\n",
       "group=BDN2 577      425      372      7.65      21.6\n",
       "\n",
       " Chisq= 21.6  on 1 degrees of freedom, p= 3e-06 "
      ]
     },
     "metadata": {},
     "output_type": "display_data"
    }
   ],
   "source": [
    "# Perform the Tarone-Ware test on groyps BDN1 Vs BDN2\n",
    "survdiff(Surv(as.integer(days), as.integer(status)) ~ group, data=bdn1_bdn2, rho=0.5)"
   ]
  },
  {
   "cell_type": "markdown",
   "id": "1c0829ff-931f-4879-82e9-b5c28e3bb802",
   "metadata": {},
   "source": [
    "The p.value of the test is less than 0.05. Then, we can reject the null hypothesis and say that there is enough evidence to claim there is a difference in survival between the 02 bednets groups."
   ]
  },
  {
   "cell_type": "code",
   "execution_count": null,
   "id": "537b0c84-f478-4a63-a055-81d8481801c0",
   "metadata": {},
   "outputs": [],
   "source": []
  }
 ],
 "metadata": {
  "kernelspec": {
   "display_name": "R",
   "language": "R",
   "name": "ir"
  },
  "language_info": {
   "codemirror_mode": "r",
   "file_extension": ".r",
   "mimetype": "text/x-r-source",
   "name": "R",
   "pygments_lexer": "r",
   "version": "3.6.1"
  }
 },
 "nbformat": 4,
 "nbformat_minor": 5
}
